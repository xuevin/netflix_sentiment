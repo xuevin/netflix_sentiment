{
 "cells": [
  {
   "cell_type": "code",
   "execution_count": 1,
   "metadata": {},
   "outputs": [
    {
     "name": "stdout",
     "output_type": "stream",
     "text": [
      "RDKit version: 2018.03.4\n"
     ]
    }
   ],
   "source": [
    "from common.helper_functions import config_gpu"
   ]
  },
  {
   "cell_type": "code",
   "execution_count": 2,
   "metadata": {},
   "outputs": [
    {
     "name": "stdout",
     "output_type": "stream",
     "text": [
      "2019-10-07 15:23:44: Configuring to use GPU 0 with RAM fraction set to grow as needed to as high as 1.\n"
     ]
    },
    {
     "name": "stderr",
     "output_type": "stream",
     "text": [
      "Using TensorFlow backend.\n"
     ]
    }
   ],
   "source": [
    "config_gpu('0',1)"
   ]
  },
  {
   "cell_type": "code",
   "execution_count": 3,
   "metadata": {},
   "outputs": [
    {
     "data": {
      "text/plain": [
       "'/fluency/external'"
      ]
     },
     "execution_count": 3,
     "metadata": {},
     "output_type": "execute_result"
    }
   ],
   "source": [
    "pwd"
   ]
  },
  {
   "cell_type": "code",
   "execution_count": 4,
   "metadata": {},
   "outputs": [],
   "source": [
    "reviews_train = []\n",
    "for line in open('aclImdb/movie_data/full_train.txt', 'r', encoding=\"utf-8\"):\n",
    "    \n",
    "    reviews_train.append(line.strip())\n",
    "    \n",
    "reviews_test = []\n",
    "for line in open('aclImdb/movie_data/full_test.txt', 'r', encoding=\"utf-8\"):\n",
    "    \n",
    "    reviews_test.append(line.strip())"
   ]
  },
  {
   "cell_type": "code",
   "execution_count": 5,
   "metadata": {},
   "outputs": [],
   "source": [
    "import re\n",
    "\n",
    "REPLACE_NO_SPACE = re.compile(\"(\\.)|(\\;)|(\\:)|(\\!)|(\\')|(\\?)|(\\,)|(\\\")|(\\()|(\\))|(\\[)|(\\])|(\\d+)\")\n",
    "REPLACE_WITH_SPACE = re.compile(\"(<br\\s*/><br\\s*/>)|(\\-)|(\\/)\")\n",
    "NO_SPACE = \"\"\n",
    "SPACE = \" \"\n",
    "\n",
    "def preprocess_reviews(reviews):\n",
    "    \n",
    "    reviews = [REPLACE_NO_SPACE.sub(NO_SPACE, line.lower()) for line in reviews]\n",
    "    reviews = [REPLACE_WITH_SPACE.sub(SPACE, line) for line in reviews]\n",
    "    \n",
    "    return reviews\n",
    "\n",
    "reviews_train_clean = preprocess_reviews(reviews_train)\n",
    "reviews_test_clean = preprocess_reviews(reviews_test)"
   ]
  },
  {
   "cell_type": "code",
   "execution_count": 6,
   "metadata": {},
   "outputs": [
    {
     "data": {
      "text/plain": [
       "25000"
      ]
     },
     "execution_count": 6,
     "metadata": {},
     "output_type": "execute_result"
    }
   ],
   "source": [
    "len(reviews_test_clean)"
   ]
  },
  {
   "cell_type": "code",
   "execution_count": 7,
   "metadata": {},
   "outputs": [],
   "source": [
    "target = [1 if i < 12500 else 0 for i in range(25000)]"
   ]
  },
  {
   "cell_type": "code",
   "execution_count": 8,
   "metadata": {},
   "outputs": [],
   "source": [
    "from sklearn.feature_extraction.text import CountVectorizer\n",
    "\n",
    "cv = CountVectorizer(binary=True, lowercase=True, min_df=3, max_df=0.9, max_features=5000)\n",
    "cv.fit(reviews_train_clean)\n",
    "X = cv.transform(reviews_train_clean)\n",
    "#X_test = cv.transform(reviews_test_clean)"
   ]
  },
  {
   "cell_type": "markdown",
   "metadata": {},
   "source": [
    "# Split Train Test"
   ]
  },
  {
   "cell_type": "code",
   "execution_count": 9,
   "metadata": {},
   "outputs": [],
   "source": [
    "from sklearn.model_selection import train_test_split"
   ]
  },
  {
   "cell_type": "code",
   "execution_count": 10,
   "metadata": {},
   "outputs": [
    {
     "name": "stderr",
     "output_type": "stream",
     "text": [
      "/opt/conda/lib/python3.6/site-packages/sklearn/model_selection/_split.py:2069: FutureWarning: From version 0.21, test_size will always complement train_size unless both are specified.\n",
      "  FutureWarning)\n"
     ]
    }
   ],
   "source": [
    "X_train, X_val, y_train, y_val = train_test_split(reviews_train_clean, target, train_size = 0.75)"
   ]
  },
  {
   "cell_type": "code",
   "execution_count": 11,
   "metadata": {},
   "outputs": [],
   "source": [
    "X_train_onehot = cv.transform(X_train)\n",
    "X_val_onehot = cv.transform(X_val)"
   ]
  },
  {
   "cell_type": "markdown",
   "metadata": {},
   "source": [
    "# Logistic Regression"
   ]
  },
  {
   "cell_type": "code",
   "execution_count": 12,
   "metadata": {},
   "outputs": [],
   "source": [
    "from sklearn.linear_model import LogisticRegression\n",
    "from sklearn.metrics import accuracy_score\n"
   ]
  },
  {
   "cell_type": "code",
   "execution_count": 13,
   "metadata": {},
   "outputs": [
    {
     "name": "stderr",
     "output_type": "stream",
     "text": [
      "/opt/conda/lib/python3.6/site-packages/sklearn/linear_model/logistic.py:432: FutureWarning: Default solver will be changed to 'lbfgs' in 0.22. Specify a solver to silence this warning.\n",
      "  FutureWarning)\n"
     ]
    },
    {
     "name": "stdout",
     "output_type": "stream",
     "text": [
      "Accuracy for C=0.01: 0.87664\n",
      "Accuracy for C=0.05: 0.88544\n",
      "Accuracy for C=0.25: 0.87616\n",
      "Accuracy for C=0.5: 0.87456\n",
      "Accuracy for C=1: 0.86688\n"
     ]
    }
   ],
   "source": [
    "for c in [0.01, 0.05, 0.25, 0.5, 1]:\n",
    "    \n",
    "    lr = LogisticRegression(C=c)\n",
    "    lr.fit(X_train_onehot, y_train)\n",
    "    print (\"Accuracy for C=%s: %s\" \n",
    "           % (c, accuracy_score(y_val, lr.predict(X_val_onehot))))"
   ]
  },
  {
   "cell_type": "markdown",
   "metadata": {},
   "source": [
    "# Simple NN"
   ]
  },
  {
   "cell_type": "code",
   "execution_count": 14,
   "metadata": {},
   "outputs": [
    {
     "name": "stdout",
     "output_type": "stream",
     "text": [
      "WARNING:tensorflow:From /opt/conda/lib/python3.6/site-packages/tensorflow/python/ops/resource_variable_ops.py:435: colocate_with (from tensorflow.python.framework.ops) is deprecated and will be removed in a future version.\n",
      "Instructions for updating:\n",
      "Colocations handled automatically by placer.\n",
      "_________________________________________________________________\n",
      "Layer (type)                 Output Shape              Param #   \n",
      "=================================================================\n",
      "dense (Dense)                (None, 500)               2500500   \n",
      "_________________________________________________________________\n",
      "dense_1 (Dense)              (None, 1)                 501       \n",
      "=================================================================\n",
      "Total params: 2,501,001\n",
      "Trainable params: 2,501,001\n",
      "Non-trainable params: 0\n",
      "_________________________________________________________________\n"
     ]
    }
   ],
   "source": [
    "from tensorflow.keras.models import Sequential\n",
    "from tensorflow.keras.layers import Dense\n",
    " \n",
    "model = Sequential()\n",
    " \n",
    "model.add(Dense(units=500, activation='relu', input_dim=len(cv.get_feature_names())))\n",
    "model.add(Dense(units=1, activation='sigmoid'))\n",
    " \n",
    "model.compile(loss='binary_crossentropy', optimizer='adam', metrics=['accuracy'])\n",
    "model.summary()"
   ]
  },
  {
   "cell_type": "code",
   "execution_count": 15,
   "metadata": {},
   "outputs": [
    {
     "name": "stdout",
     "output_type": "stream",
     "text": [
      "Train on 18750 samples, validate on 6250 samples\n",
      "WARNING:tensorflow:From /opt/conda/lib/python3.6/site-packages/tensorflow/python/ops/math_ops.py:3066: to_int32 (from tensorflow.python.ops.math_ops) is deprecated and will be removed in a future version.\n",
      "Instructions for updating:\n",
      "Use tf.cast instead.\n",
      "Epoch 1/2\n",
      "18750/18750 [==============================] - 1s 77us/sample - loss: 0.3479 - acc: 0.8537 - val_loss: 0.2991 - val_acc: 0.8766\n",
      "Epoch 2/2\n",
      "18750/18750 [==============================] - 1s 58us/sample - loss: 0.1870 - acc: 0.9296 - val_loss: 0.3082 - val_acc: 0.8806\n"
     ]
    },
    {
     "data": {
      "text/plain": [
       "<tensorflow.python.keras.callbacks.History at 0x7f1fc470cfd0>"
      ]
     },
     "execution_count": 15,
     "metadata": {},
     "output_type": "execute_result"
    }
   ],
   "source": [
    "model.fit(X_train_onehot,\n",
    "          y_train, \n",
    "          epochs=2,\n",
    "          batch_size=128,\n",
    "          verbose=1, \n",
    "          validation_data=(X_val_onehot, y_val))"
   ]
  },
  {
   "cell_type": "code",
   "execution_count": 16,
   "metadata": {},
   "outputs": [
    {
     "name": "stdout",
     "output_type": "stream",
     "text": [
      "6250/6250 [==============================] - 0s 71us/sample - loss: 0.3082 - acc: 0.8806\n"
     ]
    },
    {
     "data": {
      "text/plain": [
       "[0.3081792943954468, 0.88064]"
      ]
     },
     "execution_count": 16,
     "metadata": {},
     "output_type": "execute_result"
    }
   ],
   "source": [
    "model.evaluate(X_val_onehot, y_val)"
   ]
  },
  {
   "cell_type": "markdown",
   "metadata": {},
   "source": [
    "# Convolution NN"
   ]
  },
  {
   "cell_type": "code",
   "execution_count": 17,
   "metadata": {},
   "outputs": [
    {
     "name": "stdout",
     "output_type": "stream",
     "text": [
      "[2329, 172, 2207, 4408]\n"
     ]
    }
   ],
   "source": [
    "word2idx = {word: idx for idx, word in enumerate(cv.get_feature_names())}\n",
    "tokenize = cv.build_tokenizer()\n",
    "preprocess = cv.build_preprocessor()\n",
    " \n",
    "def to_sequence(tokenizer, preprocessor, index, text):\n",
    "    words = tokenizer(preprocessor(text))\n",
    "    indexes = [index[word] for word in words if word in index]\n",
    "    return indexes\n",
    " \n",
    "print(to_sequence(tokenize, preprocess, word2idx, \"This is an important test!\")) #  [2329, 172, 2207, 4408]\n"
   ]
  },
  {
   "cell_type": "code",
   "execution_count": 18,
   "metadata": {
    "scrolled": true
   },
   "outputs": [
    {
     "name": "stdout",
     "output_type": "stream",
     "text": [
      "[1679, 4140, 730, 50, 3442, 4427, 3055, 326, 1738, 1797, 4718, 389, 4864, 4430, 233, 4047, 1512, 2669, 2429, 2404, 612, 42, 1483, 3058, 4417, 607, 2983, 379, 197, 94, 1656, 2809, 2429, 2217, 2009, 2679, 617, 4948, 493, 4943, 259, 4437, 493, 4718, 197, 4434, 1275, 2009, 172, 44, 3, 419, 4424, 2217, 3933, 4437, 3730, 2331, 1888, 904, 4417, 4437, 2509, 2335, 1471, 2331, 1888, 4858, 4985, 901, 1576, 4417, 2335, 2329, 4747, 2209, 4338, 1674, 3873, 378, 3730, 50, 2339, 3903, 4417, 1674, 2329, 4256, 1082, 2618, 259, 3261, 2331, 2989, 868, 2335, 1733, 4988, 1860, 4867, 94, 1300, 3220, 2135, 2217, 2046, 4773, 4677, 2217, 1607, 4942, 4417, 3910, 2000, 994, 2335, 4060, 380, 216, 2046, 4417, 3910, 607, 4942, 4469, 2046, 4033, 3881, 5, 2675, 4709, 693, 4674, 2046, 1304, 1487, 380, 2963, 3048, 1089, 259, 4985, 607, 3834, 3261, 2565, 1865, 2957, 350, 1741, 1888, 1607, 2125, 2874, 2140, 2335, 2329, 4469, 3009, 1620, 1625, 1695, 2217, 4104, 3325, 395, 172, 1507, 3325, 1741, 2621, 2874, 2329, 1566, 4129, 677, 3261, 2329, 1992, 3249, 4907, 279, 134, 3640, 2329, 172, 1454, 489, 1534, 2463, 4396, 2329, 198, 2142, 1708, 2217, 2874, 259, 2335, 3844, 1698, 1292, 1489, 3868, 3092, 3267, 4417, 4985, 2404, 1275, 625, 205, 2852, 4863, 2329, 1334, 2463, 2172, 4416, 2217, 3146, 2339, 2506, 701, 1674, 1643, 2556, 2429, 2874, 4470, 2329, 365, 1531, 259, 2335, 4141, 2429, 579, 3721, 3938, 2009, 1098, 4417, 2013, 4788, 3442, 3055, 4193, 259, 2125, 2217, 2874, 2329, 2492, 279, 415, 1674, 2329, 146, 4718, 723, 3712, 419, 4609, 2509, 2329, 1566, 1016, 4952, 2673, 1741, 4718, 3125, 4736, 2217, 1576, 2179, 1958, 4277, 4560, 4677, 2217, 3057, 4933, 4953, 740, 3125, 2329, 3278, 43, 2493, 4718, 950, 1336, 3055, 4869, 3775, 4993, 3124, 3834, 4052, 1399]\n"
     ]
    }
   ],
   "source": [
    "X_train_sequences = [to_sequence(tokenize, preprocess, word2idx, x) for x in X_train]\n",
    "X_val_sequences = [to_sequence(tokenize, preprocess, word2idx, x) for x in X_val]\n",
    "print(X_train_sequences[0])"
   ]
  },
  {
   "cell_type": "code",
   "execution_count": 19,
   "metadata": {},
   "outputs": [
    {
     "name": "stdout",
     "output_type": "stream",
     "text": [
      "MAX_SEQ_LENGTH= 1437\n"
     ]
    }
   ],
   "source": [
    "MAX_SEQ_LENGTH = len(max(X_train_sequences, key=len))\n",
    "print(\"MAX_SEQ_LENGTH=\", MAX_SEQ_LENGTH)"
   ]
  },
  {
   "cell_type": "code",
   "execution_count": 20,
   "metadata": {},
   "outputs": [
    {
     "name": "stdout",
     "output_type": "stream",
     "text": [
      "[5000 5000 5000 ... 3834 4052 1399]\n"
     ]
    }
   ],
   "source": [
    "from tensorflow.keras.preprocessing.sequence import pad_sequences\n",
    "N_FEATURES = len(cv.get_feature_names())\n",
    "X_train_sequences = pad_sequences(X_train_sequences, maxlen=MAX_SEQ_LENGTH, value=N_FEATURES)\n",
    "X_val_sequences = pad_sequences(X_val_sequences, maxlen=MAX_SEQ_LENGTH, value=N_FEATURES)\n",
    "\n",
    "print(X_train_sequences[0])"
   ]
  },
  {
   "cell_type": "code",
   "execution_count": 117,
   "metadata": {},
   "outputs": [],
   "source": [
    "X_train_sequences_r = pad_sequences(X_train_sequences, padding='post', maxlen=MAX_SEQ_LENGTH, value=N_FEATURES)\n",
    "X_val_sequences_r = pad_sequences(X_val_sequences, padding='post', maxlen=MAX_SEQ_LENGTH, value=N_FEATURES)"
   ]
  },
  {
   "cell_type": "code",
   "execution_count": 21,
   "metadata": {},
   "outputs": [
    {
     "name": "stdout",
     "output_type": "stream",
     "text": [
      "_________________________________________________________________\n",
      "Layer (type)                 Output Shape              Param #   \n",
      "=================================================================\n",
      "embedding (Embedding)        (None, 1437, 64)          320064    \n",
      "_________________________________________________________________\n",
      "conv1d (Conv1D)              (None, 1433, 64)          20544     \n",
      "_________________________________________________________________\n",
      "max_pooling1d (MaxPooling1D) (None, 286, 64)           0         \n",
      "_________________________________________________________________\n",
      "flatten (Flatten)            (None, 18304)             0         \n",
      "_________________________________________________________________\n",
      "dense_2 (Dense)              (None, 64)                1171520   \n",
      "_________________________________________________________________\n",
      "dense_3 (Dense)              (None, 1)                 65        \n",
      "=================================================================\n",
      "Total params: 1,512,193\n",
      "Trainable params: 1,512,193\n",
      "Non-trainable params: 0\n",
      "_________________________________________________________________\n",
      "None\n"
     ]
    }
   ],
   "source": [
    "from tensorflow.keras.models import Sequential\n",
    "from tensorflow.keras.layers import Dense, Conv1D, MaxPooling1D, Flatten, Embedding\n",
    " \n",
    "model = Sequential()\n",
    "model.add(Embedding(len(cv.get_feature_names()) + 1,\n",
    "                    64,  # Embedding size\n",
    "                    input_length=MAX_SEQ_LENGTH))\n",
    "model.add(Conv1D(64, 5, activation='relu'))\n",
    "model.add(MaxPooling1D(5))\n",
    "model.add(Flatten())\n",
    "model.add(Dense(units=64, activation='relu'))\n",
    "model.add(Dense(units=1, activation='sigmoid'))\n",
    " \n",
    "model.compile(loss='binary_crossentropy', optimizer='adam', metrics=['accuracy'])\n",
    "print(model.summary())"
   ]
  },
  {
   "cell_type": "code",
   "execution_count": 22,
   "metadata": {},
   "outputs": [
    {
     "name": "stdout",
     "output_type": "stream",
     "text": [
      "Train on 18750 samples, validate on 6250 samples\n",
      "Epoch 1/2\n",
      "18750/18750 [==============================] - 4s 192us/sample - loss: 0.5484 - acc: 0.6766 - val_loss: 0.3151 - val_acc: 0.8675\n",
      "Epoch 2/2\n",
      "18750/18750 [==============================] - 3s 136us/sample - loss: 0.2652 - acc: 0.8952 - val_loss: 0.3022 - val_acc: 0.8738\n"
     ]
    },
    {
     "data": {
      "text/plain": [
       "<tensorflow.python.keras.callbacks.History at 0x7f1f8c5dc7b8>"
      ]
     },
     "execution_count": 22,
     "metadata": {},
     "output_type": "execute_result"
    }
   ],
   "source": [
    "model.fit(X_train_sequences,\n",
    "          y_train, \n",
    "          epochs=2,\n",
    "          batch_size=128,\n",
    "          verbose=1, \n",
    "          validation_data=(X_val_sequences, y_val))"
   ]
  },
  {
   "cell_type": "code",
   "execution_count": 23,
   "metadata": {},
   "outputs": [
    {
     "name": "stdout",
     "output_type": "stream",
     "text": [
      "6250/6250 [==============================] - 0s 58us/sample - loss: 0.3022 - acc: 0.8738\n"
     ]
    },
    {
     "data": {
      "text/plain": [
       "[0.3021879968214035, 0.87376]"
      ]
     },
     "execution_count": 23,
     "metadata": {},
     "output_type": "execute_result"
    }
   ],
   "source": [
    "model.evaluate(X_val_sequences, y_val)"
   ]
  },
  {
   "cell_type": "markdown",
   "metadata": {},
   "source": [
    "# LSTM"
   ]
  },
  {
   "cell_type": "code",
   "execution_count": 139,
   "metadata": {},
   "outputs": [
    {
     "name": "stdout",
     "output_type": "stream",
     "text": [
      "_________________________________________________________________\n",
      "Layer (type)                 Output Shape              Param #   \n",
      "=================================================================\n",
      "embedding_1 (Embedding)      (None, 1437, 64)          320064    \n",
      "_________________________________________________________________\n",
      "lstm (LSTM)                  (None, 64)                33024     \n",
      "_________________________________________________________________\n",
      "dense_3 (Dense)              (None, 1)                 65        \n",
      "=================================================================\n",
      "Total params: 353,153\n",
      "Trainable params: 353,153\n",
      "Non-trainable params: 0\n",
      "_________________________________________________________________\n",
      "None\n"
     ]
    }
   ],
   "source": [
    "from tensorflow.keras.models import Sequential\n",
    "from tensorflow.keras.layers import Dense, LSTM, Embedding\n",
    " \n",
    "model = Sequential()\n",
    "model.add(Embedding(len(cv.get_feature_names()) + 1,\n",
    "                    64,  # Embedding size\n",
    "                    input_length=MAX_SEQ_LENGTH))\n",
    "model.add(LSTM(64))\n",
    "model.add(Dense(units=1, activation='sigmoid'))\n",
    " \n",
    "model.compile(loss='binary_crossentropy', optimizer='adam', metrics=['accuracy'])\n",
    "print(model.summary())\n",
    " "
   ]
  },
  {
   "cell_type": "code",
   "execution_count": null,
   "metadata": {},
   "outputs": [],
   "source": [
    "model.fit(X_train_sequences,\n",
    "          y_train, \n",
    "          epochs=2,\n",
    "          batch_size=128,\n",
    "          verbose=1, \n",
    "          validation_data=(X_val_sequences, y_val))"
   ]
  },
  {
   "cell_type": "code",
   "execution_count": 26,
   "metadata": {},
   "outputs": [
    {
     "name": "stdout",
     "output_type": "stream",
     "text": [
      "6250/6250 [==============================] - 116s 19ms/sample - loss: 0.3069 - acc: 0.8765\n"
     ]
    },
    {
     "data": {
      "text/plain": [
       "[0.30690554965019223, 0.87648]"
      ]
     },
     "execution_count": 26,
     "metadata": {},
     "output_type": "execute_result"
    }
   ],
   "source": [
    "model.evaluate(X_val_sequences, y_val)"
   ]
  },
  {
   "cell_type": "markdown",
   "metadata": {},
   "source": [
    "# Transformer One-Shot"
   ]
  },
  {
   "cell_type": "code",
   "execution_count": 314,
   "metadata": {},
   "outputs": [],
   "source": [
    "from common.layer.attention import MultiHeadSelfAttention\n",
    "from common.layer.normalization import LayerNormalization\n",
    "from tensorflow.keras.layers import Input, Lambda, Add, Activation, GlobalAveragePooling1D\n",
    "from common.layer.position import AddPositionalEncoding\n"
   ]
  },
  {
   "cell_type": "code",
   "execution_count": 28,
   "metadata": {},
   "outputs": [],
   "source": [
    "from tensorflow.keras.optimizers import Adam"
   ]
  },
  {
   "cell_type": "code",
   "execution_count": 29,
   "metadata": {},
   "outputs": [],
   "source": [
    "from tensorflow.keras import backend as K"
   ]
  },
  {
   "cell_type": "code",
   "execution_count": 30,
   "metadata": {},
   "outputs": [],
   "source": [
    "from tensorflow.keras.models import Model"
   ]
  },
  {
   "cell_type": "code",
   "execution_count": 31,
   "metadata": {},
   "outputs": [
    {
     "data": {
      "text/plain": [
       "1437"
      ]
     },
     "execution_count": 31,
     "metadata": {},
     "output_type": "execute_result"
    }
   ],
   "source": [
    "MAX_SEQ_LENGTH"
   ]
  },
  {
   "cell_type": "code",
   "execution_count": 320,
   "metadata": {},
   "outputs": [
    {
     "name": "stdout",
     "output_type": "stream",
     "text": [
      "__________________________________________________________________________________________________\n",
      "Layer (type)                    Output Shape         Param #     Connected to                     \n",
      "==================================================================================================\n",
      "input_1 (InputLayer)            (None, 1437)         0                                            \n",
      "__________________________________________________________________________________________________\n",
      "embedding (Embedding)           (None, 1437, 64)     320064      input_1[0][0]                    \n",
      "__________________________________________________________________________________________________\n",
      "self_attention0 (MultiHeadSelfA (None, 1437, 64)     16384       embedding[0][0]                  \n",
      "__________________________________________________________________________________________________\n",
      "dense (Dense)                   (None, 1437, 32)     2080        self_attention0[0][0]            \n",
      "__________________________________________________________________________________________________\n",
      "dense_1 (Dense)                 (None, 1437, 64)     2112        dense[0][0]                      \n",
      "__________________________________________________________________________________________________\n",
      "add (Add)                       (None, 1437, 64)     0           embedding[0][0]                  \n",
      "                                                                 dense_1[0][0]                    \n",
      "__________________________________________________________________________________________________\n",
      "global_average_pooling1d (Globa (None, 64)           0           add[0][0]                        \n",
      "__________________________________________________________________________________________________\n",
      "dense_2 (Dense)                 (None, 1)            65          global_average_pooling1d[0][0]   \n",
      "==================================================================================================\n",
      "Total params: 340,705\n",
      "Trainable params: 340,705\n",
      "Non-trainable params: 0\n",
      "__________________________________________________________________________________________________\n",
      "None\n"
     ]
    }
   ],
   "source": [
    "K.clear_session()\n",
    "sequence_input = Input(shape=(MAX_SEQ_LENGTH,))\n",
    "\n",
    "embed = Embedding(len(cv.get_feature_names()) + 1,\n",
    "                  64,  # Embedding size\n",
    "                  input_length=MAX_SEQ_LENGTH)(sequence_input)\n",
    "\n",
    "#embed = Lambda(lambda x: x*10, name='embed_scaled')(embed)\n",
    "#embed = AddPositionalEncoding()(embed)\n",
    "\n",
    "x = embed\n",
    "\n",
    "for i in range(1):\n",
    "    y = MultiHeadSelfAttention(num_heads=4,\n",
    "                           use_masking=False,\n",
    "                           dropout=0,\n",
    "                           name='self_attention%d'%i)(x)\n",
    "\n",
    "    y = Dense(32, activation='relu')(y)\n",
    "    y = Dense(64)(y)\n",
    "    \n",
    "    x = Add()([x,y])\n",
    "#    x = LayerNormalization()(x)\n",
    "\n",
    "\n",
    "\n",
    "x = GlobalAveragePooling1D()(x)\n",
    "\n",
    "\n",
    "output = Dense(units=1, activation='sigmoid')(x)\n",
    "\n",
    "model = Model(sequence_input, output)\n",
    "\n",
    "model.compile(loss='binary_crossentropy',\n",
    "              optimizer=Adam(lr=0.001),\n",
    "              metrics=['accuracy'])\n",
    "print(model.summary())"
   ]
  },
  {
   "cell_type": "code",
   "execution_count": 321,
   "metadata": {},
   "outputs": [
    {
     "name": "stdout",
     "output_type": "stream",
     "text": [
      "Train on 18750 samples, validate on 6250 samples\n",
      "18750/18750 [==============================] - 74s 4ms/sample - loss: 0.4772 - acc: 0.7418 - val_loss: 0.3108 - val_acc: 0.8667\n"
     ]
    },
    {
     "data": {
      "text/plain": [
       "<tensorflow.python.keras.callbacks.History at 0x7f194fecf208>"
      ]
     },
     "execution_count": 321,
     "metadata": {},
     "output_type": "execute_result"
    }
   ],
   "source": [
    "model.fit(X_train_sequences,\n",
    "          y_train, \n",
    "          epochs=1,\n",
    "          batch_size=16,\n",
    "          verbose=1, \n",
    "          validation_data=(X_val_sequences, y_val))"
   ]
  },
  {
   "cell_type": "code",
   "execution_count": 322,
   "metadata": {},
   "outputs": [
    {
     "name": "stdout",
     "output_type": "stream",
     "text": [
      "6250/6250 [==============================] - 8s 1ms/sample - loss: 0.3108 - acc: 0.8667\n"
     ]
    },
    {
     "data": {
      "text/plain": [
       "[0.31082940051078795, 0.86672]"
      ]
     },
     "execution_count": 322,
     "metadata": {},
     "output_type": "execute_result"
    }
   ],
   "source": [
    "model.evaluate(X_val_sequences, y_val)"
   ]
  },
  {
   "cell_type": "markdown",
   "metadata": {},
   "source": [
    "# Add Postional Encoding"
   ]
  },
  {
   "cell_type": "code",
   "execution_count": 329,
   "metadata": {},
   "outputs": [
    {
     "name": "stdout",
     "output_type": "stream",
     "text": [
      "__________________________________________________________________________________________________\n",
      "Layer (type)                    Output Shape         Param #     Connected to                     \n",
      "==================================================================================================\n",
      "input_1 (InputLayer)            (None, 1437)         0                                            \n",
      "__________________________________________________________________________________________________\n",
      "embedding (Embedding)           (None, 1437, 64)     320064      input_1[0][0]                    \n",
      "__________________________________________________________________________________________________\n",
      "add_positional_encoding (AddPos (None, 1437, 64)     0           embedding[0][0]                  \n",
      "__________________________________________________________________________________________________\n",
      "self_attention0 (MultiHeadSelfA (None, 1437, 64)     16384       add_positional_encoding[0][0]    \n",
      "__________________________________________________________________________________________________\n",
      "dense (Dense)                   (None, 1437, 32)     2080        self_attention0[0][0]            \n",
      "__________________________________________________________________________________________________\n",
      "dense_1 (Dense)                 (None, 1437, 64)     2112        dense[0][0]                      \n",
      "__________________________________________________________________________________________________\n",
      "add (Add)                       (None, 1437, 64)     0           add_positional_encoding[0][0]    \n",
      "                                                                 dense_1[0][0]                    \n",
      "__________________________________________________________________________________________________\n",
      "layer_normalization (LayerNorma (None, 1437, 64)     128         add[0][0]                        \n",
      "__________________________________________________________________________________________________\n",
      "self_attention1 (MultiHeadSelfA (None, 1437, 64)     16384       layer_normalization[0][0]        \n",
      "__________________________________________________________________________________________________\n",
      "dense_2 (Dense)                 (None, 1437, 32)     2080        self_attention1[0][0]            \n",
      "__________________________________________________________________________________________________\n",
      "dense_3 (Dense)                 (None, 1437, 64)     2112        dense_2[0][0]                    \n",
      "__________________________________________________________________________________________________\n",
      "add_1 (Add)                     (None, 1437, 64)     0           layer_normalization[0][0]        \n",
      "                                                                 dense_3[0][0]                    \n",
      "__________________________________________________________________________________________________\n",
      "layer_normalization_1 (LayerNor (None, 1437, 64)     128         add_1[0][0]                      \n",
      "__________________________________________________________________________________________________\n",
      "self_attention2 (MultiHeadSelfA (None, 1437, 64)     16384       layer_normalization_1[0][0]      \n",
      "__________________________________________________________________________________________________\n",
      "dense_4 (Dense)                 (None, 1437, 32)     2080        self_attention2[0][0]            \n",
      "__________________________________________________________________________________________________\n",
      "dense_5 (Dense)                 (None, 1437, 64)     2112        dense_4[0][0]                    \n",
      "__________________________________________________________________________________________________\n",
      "add_2 (Add)                     (None, 1437, 64)     0           layer_normalization_1[0][0]      \n",
      "                                                                 dense_5[0][0]                    \n",
      "__________________________________________________________________________________________________\n",
      "layer_normalization_2 (LayerNor (None, 1437, 64)     128         add_2[0][0]                      \n",
      "__________________________________________________________________________________________________\n",
      "global_average_pooling1d (Globa (None, 64)           0           layer_normalization_2[0][0]      \n",
      "__________________________________________________________________________________________________\n",
      "dense_6 (Dense)                 (None, 1)            65          global_average_pooling1d[0][0]   \n",
      "==================================================================================================\n",
      "Total params: 382,241\n",
      "Trainable params: 382,241\n",
      "Non-trainable params: 0\n",
      "__________________________________________________________________________________________________\n",
      "None\n"
     ]
    }
   ],
   "source": [
    "K.clear_session()\n",
    "sequence_input = Input(shape=(MAX_SEQ_LENGTH,))\n",
    "\n",
    "embed = Embedding(len(cv.get_feature_names()) + 1,\n",
    "                  64,  # Embedding size\n",
    "                  input_length=MAX_SEQ_LENGTH)(sequence_input)\n",
    "\n",
    "#embed = Lambda(lambda x: x*1000, name='embed_scaled')(embed)\n",
    "embed = AddPositionalEncoding()(embed)\n",
    "\n",
    "x = embed\n",
    "\n",
    "for i in range(3):\n",
    "    y = MultiHeadSelfAttention(num_heads=4,\n",
    "                           use_masking=False,\n",
    "                           dropout=0,\n",
    "                           name='self_attention%d'%i)(x)\n",
    "\n",
    "    y = Dense(32, activation='relu')(y)\n",
    "    y = Dense(64)(y)\n",
    "    #y = Conv1D(kernel_size=1, filters=32)(y)\n",
    "    #y = Activation('relu')(y)\n",
    "    #y = Conv1D(kernel_size=1, filters=64)(y)\n",
    "    \n",
    "    x = Add()([x,y])\n",
    "    x = LayerNormalization()(x)\n",
    "\n",
    "x = GlobalAveragePooling1D()(x)\n",
    "\n",
    "output = Dense(units=1, activation='sigmoid')(x)\n",
    "\n",
    "\n",
    "model = Model(sequence_input, output)\n",
    "\n",
    "model.compile(loss='binary_crossentropy',\n",
    "              optimizer=Adam(lr=0.001),\n",
    "              metrics=['accuracy'])\n",
    "print(model.summary())"
   ]
  },
  {
   "cell_type": "code",
   "execution_count": 332,
   "metadata": {},
   "outputs": [
    {
     "name": "stdout",
     "output_type": "stream",
     "text": [
      "Train on 18750 samples, validate on 6250 samples\n",
      "Epoch 1/2\n",
      "18750/18750 [==============================] - 217s 12ms/sample - loss: 0.3211 - acc: 0.8592 - val_loss: 0.3015 - val_acc: 0.8717\n",
      "Epoch 2/2\n",
      "18750/18750 [==============================] - 217s 12ms/sample - loss: 0.2391 - acc: 0.9055 - val_loss: 0.3256 - val_acc: 0.8645\n"
     ]
    },
    {
     "data": {
      "text/plain": [
       "<tensorflow.python.keras.callbacks.History at 0x7f1951e69710>"
      ]
     },
     "execution_count": 332,
     "metadata": {},
     "output_type": "execute_result"
    }
   ],
   "source": [
    "model.fit(X_train_sequences,\n",
    "          y_train, \n",
    "          epochs=2,\n",
    "          batch_size=16,\n",
    "          verbose=1, \n",
    "          validation_data=(X_val_sequences, y_val))"
   ]
  },
  {
   "cell_type": "code",
   "execution_count": 333,
   "metadata": {},
   "outputs": [
    {
     "name": "stdout",
     "output_type": "stream",
     "text": [
      "6250/6250 [==============================] - 24s 4ms/sample - loss: 0.3256 - acc: 0.8645\n"
     ]
    },
    {
     "data": {
      "text/plain": [
       "[0.32557876320123674, 0.86448]"
      ]
     },
     "execution_count": 333,
     "metadata": {},
     "output_type": "execute_result"
    }
   ],
   "source": [
    "model.evaluate(X_val_sequences, y_val)"
   ]
  },
  {
   "cell_type": "markdown",
   "metadata": {},
   "source": [
    "# Use LR FINDER"
   ]
  },
  {
   "cell_type": "code",
   "execution_count": 176,
   "metadata": {},
   "outputs": [],
   "source": [
    "from common.optimizer.lr_finder import LRFinder"
   ]
  },
  {
   "cell_type": "code",
   "execution_count": 293,
   "metadata": {},
   "outputs": [],
   "source": [
    "lr_finder = LRFinder(min_lr=1e-2,\n",
    "                     max_lr=0.2,\n",
    "                     linear=True,\n",
    "                     steps_per_epoch=np.ceil(18750/16),\n",
    "                     epochs=1)\n"
   ]
  },
  {
   "cell_type": "code",
   "execution_count": 294,
   "metadata": {},
   "outputs": [],
   "source": [
    "model.compile(loss='binary_crossentropy',\n",
    "              optimizer='sgd',\n",
    "              metrics=['accuracy'],\n",
    "              )"
   ]
  },
  {
   "cell_type": "code",
   "execution_count": 295,
   "metadata": {},
   "outputs": [
    {
     "name": "stdout",
     "output_type": "stream",
     "text": [
      "18750/18750 [==============================] - 67s 4ms/sample - loss: 2.3338 - acc: 0.5061\n"
     ]
    },
    {
     "data": {
      "text/plain": [
       "<tensorflow.python.keras.callbacks.History at 0x7f1a71d53d68>"
      ]
     },
     "execution_count": 295,
     "metadata": {},
     "output_type": "execute_result"
    }
   ],
   "source": [
    "model.fit(X_train_sequences,\n",
    "          y_train, \n",
    "          epochs=1,\n",
    "          batch_size=16,\n",
    "          verbose=1, \n",
    "#          validation_data=(X_val_sequences, y_val),\n",
    "          callbacks=[lr_finder])"
   ]
  },
  {
   "cell_type": "code",
   "execution_count": 296,
   "metadata": {},
   "outputs": [
    {
     "data": {
      "text/plain": [
       "(0.1, 0.3)"
      ]
     },
     "execution_count": 296,
     "metadata": {},
     "output_type": "execute_result"
    },
    {
     "data": {
      "image/png": "[encoded data removed]",
      "text/plain": [
       "<Figure size 432x288 with 1 Axes>"
      ]
     },
     "metadata": {
      "needs_background": "light"
     },
     "output_type": "display_data"
    }
   ],
   "source": [
    "lr_finder.plot_loss()\n",
    "xlim(10e-2,0.3)"
   ]
  },
  {
   "cell_type": "code",
   "execution_count": 47,
   "metadata": {},
   "outputs": [
    {
     "name": "stdout",
     "output_type": "stream",
     "text": [
      "Populating the interactive namespace from numpy and matplotlib\n"
     ]
    },
    {
     "name": "stderr",
     "output_type": "stream",
     "text": [
      "/opt/conda/lib/python3.6/site-packages/IPython/core/magics/pylab.py:160: UserWarning: pylab import has clobbered these variables: ['flatten']\n",
      "`%matplotlib` prevents importing * from pylab and numpy\n",
      "  \"\\n`%matplotlib` prevents importing * from pylab and numpy\"\n"
     ]
    }
   ],
   "source": [
    "%pylab inline"
   ]
  },
  {
   "cell_type": "code",
   "execution_count": 299,
   "metadata": {},
   "outputs": [
    {
     "data": {
      "text/plain": [
       "[<tensorflow.python.keras.engine.input_layer.InputLayer at 0x7f1a71be1470>,\n",
       " <tensorflow.python.keras.layers.embeddings.Embedding at 0x7f196016e7f0>,\n",
       " <common.layer.attention.MultiHeadSelfAttention at 0x7f1bc3cf11d0>,\n",
       " <tensorflow.python.keras.layers.core.Dense at 0x7f1a71be16d8>,\n",
       " <tensorflow.python.keras.layers.core.Dense at 0x7f1a1807e358>,\n",
       " <tensorflow.python.keras.layers.merge.Add at 0x7f1a180af5c0>,\n",
       " <tensorflow.python.keras.layers.core.Flatten at 0x7f1a71be1748>,\n",
       " <tensorflow.python.keras.layers.core.Dense at 0x7f1a1807e160>]"
      ]
     },
     "execution_count": 299,
     "metadata": {},
     "output_type": "execute_result"
    }
   ],
   "source": [
    "model.layers"
   ]
  },
  {
   "cell_type": "code",
   "execution_count": 300,
   "metadata": {},
   "outputs": [],
   "source": [
    "analysis_model = Model(model.inputs,\n",
    "                       model.layers[-1].output)"
   ]
  },
  {
   "cell_type": "code",
   "execution_count": 309,
   "metadata": {},
   "outputs": [],
   "source": [
    "output = analysis_model.predict(X_train_sequences)"
   ]
  },
  {
   "cell_type": "code",
   "execution_count": 302,
   "metadata": {},
   "outputs": [
    {
     "data": {
      "text/plain": [
       "<matplotlib.collections.PolyCollection at 0x7f19563f9b00>"
      ]
     },
     "execution_count": 302,
     "metadata": {},
     "output_type": "execute_result"
    },
    {
     "data": {
      "image/png": "[encoded data removed]",
      "text/plain": [
       "<Figure size 432x288 with 1 Axes>"
      ]
     },
     "metadata": {
      "needs_background": "light"
     },
     "output_type": "display_data"
    }
   ],
   "source": [
    "pcolor(analysis_model.predict(X_train_sequences[[0]])[0])"
   ]
  },
  {
   "cell_type": "code",
   "execution_count": 50,
   "metadata": {},
   "outputs": [],
   "source": [
    "analysis_model = Model(model.inputs,\n",
    "                       model.layers[2].output)"
   ]
  },
  {
   "cell_type": "code",
   "execution_count": 51,
   "metadata": {},
   "outputs": [
    {
     "data": {
      "text/plain": [
       "<matplotlib.collections.PolyCollection at 0x7f1bd83cff28>"
      ]
     },
     "execution_count": 51,
     "metadata": {},
     "output_type": "execute_result"
    },
    {
     "data": {
      "image/png": "[encoded data removed]",
      "text/plain": [
       "<Figure size 432x288 with 1 Axes>"
      ]
     },
     "metadata": {
      "needs_background": "light"
     },
     "output_type": "display_data"
    }
   ],
   "source": [
    "pcolor(analysis_model.predict(X_train_sequences[[0]])[0])"
   ]
  },
  {
   "cell_type": "markdown",
   "metadata": {},
   "source": [
    "# Visualize The positional encoding."
   ]
  },
  {
   "cell_type": "code",
   "execution_count": 171,
   "metadata": {},
   "outputs": [],
   "source": [
    "import tensorflow as tf"
   ]
  },
  {
   "cell_type": "code",
   "execution_count": 172,
   "metadata": {},
   "outputs": [
    {
     "ename": "AttributeError",
     "evalue": "'Lambda' object has no attribute 'signal'",
     "output_type": "error",
     "traceback": [
      "\u001b[0;31m---------------------------------------------------------------------------\u001b[0m",
      "\u001b[0;31mAttributeError\u001b[0m                            Traceback (most recent call last)",
      "\u001b[0;32m<ipython-input-172-f1047545369d>\u001b[0m in \u001b[0;36m<module>\u001b[0;34m\u001b[0m\n\u001b[1;32m      1\u001b[0m \u001b[0;32mwith\u001b[0m \u001b[0mtf\u001b[0m\u001b[0;34m.\u001b[0m\u001b[0mSession\u001b[0m\u001b[0;34m(\u001b[0m\u001b[0;34m)\u001b[0m \u001b[0;32mas\u001b[0m \u001b[0msess\u001b[0m\u001b[0;34m:\u001b[0m\u001b[0;34m\u001b[0m\u001b[0;34m\u001b[0m\u001b[0m\n\u001b[1;32m      2\u001b[0m \u001b[0;34m\u001b[0m\u001b[0m\n\u001b[0;32m----> 3\u001b[0;31m     \u001b[0mfoo\u001b[0m \u001b[0;34m=\u001b[0m \u001b[0mmodel\u001b[0m\u001b[0;34m.\u001b[0m\u001b[0mlayers\u001b[0m\u001b[0;34m[\u001b[0m\u001b[0;36m2\u001b[0m\u001b[0;34m]\u001b[0m\u001b[0;34m.\u001b[0m\u001b[0msignal\u001b[0m\u001b[0;34m.\u001b[0m\u001b[0meval\u001b[0m\u001b[0;34m(\u001b[0m\u001b[0;34m)\u001b[0m\u001b[0;34m\u001b[0m\u001b[0;34m\u001b[0m\u001b[0m\n\u001b[0m",
      "\u001b[0;31mAttributeError\u001b[0m: 'Lambda' object has no attribute 'signal'"
     ]
    }
   ],
   "source": [
    "with tf.Session() as sess:\n",
    "\n",
    "    foo = model.layers[2].signal.eval()"
   ]
  },
  {
   "cell_type": "code",
   "execution_count": null,
   "metadata": {},
   "outputs": [],
   "source": [
    "%pylab inline"
   ]
  },
  {
   "cell_type": "code",
   "execution_count": 148,
   "metadata": {},
   "outputs": [],
   "source": [
    "debug_model = Model(inputs=model.input,\n",
    "                    outputs=[model.layers[2].output])"
   ]
  },
  {
   "cell_type": "code",
   "execution_count": 149,
   "metadata": {},
   "outputs": [
    {
     "name": "stdout",
     "output_type": "stream",
     "text": [
      "-628.59705\n",
      "638.41345\n"
     ]
    }
   ],
   "source": [
    "print(np.min(debug_model.predict(X_val_sequences[0:1,:])))\n",
    "print(np.max(debug_model.predict(X_val_sequences[0:1,:])))"
   ]
  },
  {
   "cell_type": "code",
   "execution_count": 150,
   "metadata": {},
   "outputs": [
    {
     "data": {
      "text/plain": [
       "1.0"
      ]
     },
     "execution_count": 150,
     "metadata": {},
     "output_type": "execute_result"
    }
   ],
   "source": [
    "np.max(foo.squeeze())"
   ]
  },
  {
   "cell_type": "code",
   "execution_count": 135,
   "metadata": {},
   "outputs": [
    {
     "data": {
      "text/plain": [
       "<matplotlib.collections.PolyCollection at 0x7f4b658e26d8>"
      ]
     },
     "execution_count": 135,
     "metadata": {},
     "output_type": "execute_result"
    },
    {
     "data": {
      "image/png": "[encoded data removed]",
      "text/plain": [
       "<Figure size 432x288 with 1 Axes>"
      ]
     },
     "metadata": {
      "needs_background": "light"
     },
     "output_type": "display_data"
    }
   ],
   "source": [
    "pcolor(foo.squeeze())"
   ]
  },
  {
   "cell_type": "code",
   "execution_count": null,
   "metadata": {},
   "outputs": [],
   "source": [
    "\n"
   ]
  }
 ],
 "metadata": {
  "kernelspec": {
   "display_name": "Python 3",
   "language": "python",
   "name": "python3"
  },
  "language_info": {
   "codemirror_mode": {
    "name": "ipython",
    "version": 3
   },
   "file_extension": ".py",
   "mimetype": "text/x-python",
   "name": "python",
   "nbconvert_exporter": "python",
   "pygments_lexer": "ipython3",
   "version": "3.6.7"
  }
 },
 "nbformat": 4,
 "nbformat_minor": 2
}
